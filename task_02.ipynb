{
 "cells": [
  {
   "cell_type": "markdown",
   "metadata": {},
   "source": [
    "# Task 2 - Read and work through Chapter 17 \"Big Data\"\n",
    "    NOTEBOOK: task_02.ipynb\n",
    "    NAME: Kristen Finley\n",
    "    DATE: 14Feb2023"
   ]
  },
  {
   "cell_type": "markdown",
   "metadata": {},
   "source": [
    "## Understand the examples.\n",
    "Examples performed in terminal in ipython and not saved and/or notebook task_05.ipynb of this Repo"
   ]
  },
  {
   "cell_type": "markdown",
   "metadata": {},
   "source": [
    "    17.1 Introduction\n",
    "    17.2 Relational Databases and Structured Query Language (SQL)\n",
    "        17.2.1 A books Database\n",
    "        17.2.2 SELECT Queries\n",
    "        17.2.3 WHERE Clause\n",
    "        17.2.4 ORDER BY Clause\n",
    "        17.2.5 Merging Data from Multiple Tables: INNER JOIN\n",
    "        17.2.6 INSERT INTO Statement\n",
    "        17.2.7 UPDATE Statement\n",
    "        17.2.8 DELETE FROM Statement"
   ]
  }
 ],
 "metadata": {
  "kernelspec": {
   "display_name": "Python 3.10.9 ('myenv')",
   "language": "python",
   "name": "python3"
  },
  "language_info": {
   "name": "python",
   "version": "3.10.9"
  },
  "orig_nbformat": 4,
  "vscode": {
   "interpreter": {
    "hash": "c2f5ec291b51ed6be03ea64178ab5557f2cb488e1dcd37d7ab6e4eff14a1fb45"
   }
  }
 },
 "nbformat": 4,
 "nbformat_minor": 2
}
